{
 "cells": [
  {
   "cell_type": "markdown",
   "metadata": {},
   "source": [
    "# Question 1)"
   ]
  },
  {
   "cell_type": "code",
   "execution_count": 37,
   "metadata": {},
   "outputs": [],
   "source": [
    "\n",
    "import numpy as np\n",
    "\n",
    "\n",
    "class MccullochPitts:\n",
    "    def __init__(self,weight, bias):\n",
    "\n",
    "        self.weight = weight\n",
    "        self.bias = bias\n",
    "        self.activation_threshold = 0\n",
    "    \n",
    "    def activation_function(self, g):\n",
    "        \n",
    "        return g > self.activation_threshold\n",
    "    \n",
    "    def forward(self, inputs: list):\n",
    "        sum = 0\n",
    "        for input in inputs:\n",
    "            sum += input * self.weight\n",
    "        \n",
    "        sum = sum + self.bias\n",
    "        return self.activation_function(sum)"
   ]
  },
  {
   "cell_type": "code",
   "execution_count": 38,
   "metadata": {},
   "outputs": [],
   "source": [
    "class AndGate(MccullochPitts):\n",
    "    def __init__(self):\n",
    "        super().__init__(weight=1, bias = -1)\n",
    "               \n",
    "class XorGate():\n",
    "    def forward(self, inputs: list):\n",
    "        z1 = MccullochPitts(weight=1 , bias = -0.5).forward(inputs)\n",
    "        z2 = MccullochPitts(weight= -1, bias = 1.5).forward(inputs)\n",
    "        y = MccullochPitts(weight=1, bias = -1.5).forward([z1, z2])\n",
    "        return y"
   ]
  },
  {
   "cell_type": "code",
   "execution_count": 40,
   "metadata": {},
   "outputs": [],
   "source": [
    "def Binary_multiplier_2bit(A1,A0, B1, B0):\n",
    "    z1 = AndGate().forward([A0, B1])\n",
    "    z2 = AndGate().forward([A0, B0])\n",
    "    z3 = AndGate().forward([A1, B0])\n",
    "    z4 = AndGate().forward([A1, B1])\n",
    "    \n",
    "    z5 = XorGate().forward([z1, z3])\n",
    "    z6 = AndGate().forward([z1, z3])\n",
    "    z7 = XorGate().forward([z4, z6])\n",
    "    z8 = AndGate().forward([z4, z6])\n",
    "    \n",
    "    return z8,z7,z5,z2\n"
   ]
  },
  {
   "cell_type": "markdown",
   "metadata": {},
   "source": [
    "In this section we will show the result of our neural network \n",
    "As we know from basic mathematics and logical circuits: \n"
   ]
  },
  {
   "cell_type": "markdown",
   "metadata": {},
   "source": [
    "##### Fisrt scenario:\n",
    "\n",
    "A1A0 = 00\n",
    "B1B0 = 00\n",
    "Result = 0000"
   ]
  },
  {
   "cell_type": "code",
   "execution_count": 41,
   "metadata": {},
   "outputs": [
    {
     "data": {
      "text/plain": [
       "(False, False, False, False)"
      ]
     },
     "execution_count": 41,
     "metadata": {},
     "output_type": "execute_result"
    }
   ],
   "source": [
    "Binary_multiplier_2bit(0, 0, 0, 0)"
   ]
  },
  {
   "cell_type": "markdown",
   "metadata": {},
   "source": [
    "##### Second scenario:\n",
    "\n",
    "A1A0 = 01\n",
    "B1B0 = 00\n",
    "Result = 0000"
   ]
  },
  {
   "cell_type": "code",
   "execution_count": 42,
   "metadata": {},
   "outputs": [
    {
     "data": {
      "text/plain": [
       "(False, False, False, False)"
      ]
     },
     "execution_count": 42,
     "metadata": {},
     "output_type": "execute_result"
    }
   ],
   "source": [
    "Binary_multiplier_2bit(0, 1, 0, 0)"
   ]
  },
  {
   "cell_type": "markdown",
   "metadata": {},
   "source": [
    "##### Third scenario:\n",
    "\n",
    "A1A0 = 01\n",
    "B1B0 = 01\n",
    "Result = 0001"
   ]
  },
  {
   "cell_type": "code",
   "execution_count": 43,
   "metadata": {},
   "outputs": [
    {
     "data": {
      "text/plain": [
       "(False, False, False, True)"
      ]
     },
     "execution_count": 43,
     "metadata": {},
     "output_type": "execute_result"
    }
   ],
   "source": [
    "Binary_multiplier_2bit(0, 1, 0, 1)"
   ]
  },
  {
   "cell_type": "markdown",
   "metadata": {},
   "source": [
    "##### Fourth scenario:\n",
    "\n",
    "A1A0 = 10\n",
    "B1B0 = 01\n",
    "Result = 0010"
   ]
  },
  {
   "cell_type": "code",
   "execution_count": 44,
   "metadata": {},
   "outputs": [
    {
     "data": {
      "text/plain": [
       "(False, False, True, False)"
      ]
     },
     "execution_count": 44,
     "metadata": {},
     "output_type": "execute_result"
    }
   ],
   "source": [
    "Binary_multiplier_2bit(1, 0, 0, 1)"
   ]
  },
  {
   "cell_type": "markdown",
   "metadata": {},
   "source": [
    "##### Fifth scenario:\n",
    "\n",
    "A1A0 = 10\n",
    "B1B0 = 10\n",
    "Result = 0100"
   ]
  },
  {
   "cell_type": "code",
   "execution_count": 45,
   "metadata": {},
   "outputs": [
    {
     "data": {
      "text/plain": [
       "(False, True, False, False)"
      ]
     },
     "execution_count": 45,
     "metadata": {},
     "output_type": "execute_result"
    }
   ],
   "source": [
    "Binary_multiplier_2bit(1, 0, 1, 0)"
   ]
  },
  {
   "cell_type": "markdown",
   "metadata": {},
   "source": [
    "##### Sixth scenario:\n",
    "\n",
    "A1A0 = 11\n",
    "B1B0 = 01\n",
    "Result = 0011"
   ]
  },
  {
   "cell_type": "code",
   "execution_count": 46,
   "metadata": {},
   "outputs": [
    {
     "data": {
      "text/plain": [
       "(False, False, True, True)"
      ]
     },
     "execution_count": 46,
     "metadata": {},
     "output_type": "execute_result"
    }
   ],
   "source": [
    "Binary_multiplier_2bit(1, 1, 0, 1)"
   ]
  },
  {
   "cell_type": "markdown",
   "metadata": {},
   "source": [
    "##### Seventh scenario:\n",
    "\n",
    "A1A0 = 11\n",
    "B1B0 = 10\n",
    "Result = 0110"
   ]
  },
  {
   "cell_type": "code",
   "execution_count": 47,
   "metadata": {},
   "outputs": [
    {
     "data": {
      "text/plain": [
       "(False, True, True, False)"
      ]
     },
     "execution_count": 47,
     "metadata": {},
     "output_type": "execute_result"
    }
   ],
   "source": [
    "Binary_multiplier_2bit(1, 1, 1, 0)"
   ]
  },
  {
   "cell_type": "markdown",
   "metadata": {},
   "source": [
    "##### Eighth scenario:\n",
    "\n",
    "A1A0 = 11\n",
    "B1B0 = 11\n",
    "Result = 1001"
   ]
  },
  {
   "cell_type": "code",
   "execution_count": 48,
   "metadata": {},
   "outputs": [
    {
     "data": {
      "text/plain": [
       "(True, False, False, True)"
      ]
     },
     "execution_count": 48,
     "metadata": {},
     "output_type": "execute_result"
    }
   ],
   "source": [
    "Binary_multiplier_2bit(1, 1, 1, 1)"
   ]
  },
  {
   "cell_type": "code",
   "execution_count": null,
   "metadata": {},
   "outputs": [],
   "source": []
  }
 ],
 "metadata": {
  "kernelspec": {
   "display_name": "Python 3 (ipykernel)",
   "language": "python",
   "name": "python3"
  },
  "language_info": {
   "codemirror_mode": {
    "name": "ipython",
    "version": 3
   },
   "file_extension": ".py",
   "mimetype": "text/x-python",
   "name": "python",
   "nbconvert_exporter": "python",
   "pygments_lexer": "ipython3",
   "version": "3.9.12"
  }
 },
 "nbformat": 4,
 "nbformat_minor": 4
}
